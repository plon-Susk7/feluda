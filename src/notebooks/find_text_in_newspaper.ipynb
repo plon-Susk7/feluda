{
 "cells": [
  {
   "cell_type": "code",
   "execution_count": 1,
   "id": "5f55f140-8720-42ac-b000-50e99886b7df",
   "metadata": {},
   "outputs": [],
   "source": [
    "import sys\n",
    "import os"
   ]
  },
  {
   "cell_type": "code",
   "execution_count": 2,
   "id": "a2018dc1-087f-4dda-aa9a-f1632a91da32",
   "metadata": {},
   "outputs": [],
   "source": [
    "sys.path.append(os.path.abspath('../../app'))"
   ]
  },
  {
   "cell_type": "code",
   "execution_count": 8,
   "id": "c8315d12-0fd0-4f1b-b313-733e593cb62b",
   "metadata": {},
   "outputs": [],
   "source": [
    "from core.feluda import Feluda\n",
    "from core.feluda import Feluda,ComponentType\n",
    "from core.models.media import MediaType\n",
    "from core.models.media_factory import TextFactory\n",
    "from datetime import datetime"
   ]
  },
  {
   "cell_type": "code",
   "execution_count": 4,
   "id": "de8f9d53-86f4-4a5a-ae76-768fc002852a",
   "metadata": {},
   "outputs": [
    {
     "name": "stderr",
     "output_type": "stream",
     "text": [
      "/usr/app/venv/lib/python3.11/site-packages/tqdm/auto.py:21: TqdmWarning: IProgress not found. Please update jupyter and ipywidgets. See https://ipywidgets.readthedocs.io/en/stable/user_install.html\n",
      "  from .autonotebook import tqdm as notebook_tqdm\n",
      "/usr/app/venv/lib/python3.11/site-packages/huggingface_hub/file_download.py:1132: FutureWarning: `resume_download` is deprecated and will be removed in version 1.0.0. Downloads always resume when possible. If you want to force a new download, use `force_download=True`.\n",
      "  warnings.warn(\n"
     ]
    }
   ],
   "source": [
    "feluda = Feluda(\"temp.yml\")\n",
    "feluda.setup()\n",
    "\n",
    "# Extracting operator name from config and getting operators from Feluda\n",
    "temp_operator = feluda.operators.get()[feluda.config.operators.parameters[0].type] "
   ]
  },
  {
   "cell_type": "code",
   "execution_count": 7,
   "id": "f5e57f34-3dcc-4a87-b4e7-9d19c6c738f3",
   "metadata": {},
   "outputs": [],
   "source": [
    "if feluda.config.store:\n",
    "    feluda.start_component(ComponentType.STORE)"
   ]
  },
  {
   "cell_type": "code",
   "execution_count": 10,
   "id": "1e355634-6c9c-40bc-842e-46a15b72b8c6",
   "metadata": {},
   "outputs": [],
   "source": [
    "lmao = temp_operator.run(\"My name is Priyash!\")"
   ]
  },
  {
   "cell_type": "code",
   "execution_count": 12,
   "id": "07da4cf9-f885-474a-b495-c848177f32fa",
   "metadata": {},
   "outputs": [],
   "source": [
    "def generate_document(rep, data):\n",
    "    doc = {\n",
    "        \"e_kosh_id\": \"\",\n",
    "        \"metadata\": None,\n",
    "        \"date_added\": datetime.utcnow(),\n",
    "    }\n",
    "    return doc\n",
    "\n",
    "\n",
    "def store_text(text_embedding):\n",
    "\n",
    "\n",
    "    if feluda.store:\n",
    "        doc = generate_document(\"temp.txt\",text_embedding)\n",
    "        media_type = MediaType.TEXT\n",
    "        result = feluda.store[feluda.config.store.entities[0].type].store(media_type,doc)\n",
    "        return(\"result:\",result)\n",
    "    else:\n",
    "        raise Exception(\"Store is not Configured\")"
   ]
  },
  {
   "cell_type": "code",
   "execution_count": 13,
   "id": "53b88838-3cfa-44f7-b011-ac0c52deee9e",
   "metadata": {},
   "outputs": [
    {
     "data": {
      "text/plain": [
       "('result:',\n",
       " ObjectApiResponse({'_index': 'text', '_id': 'wDWaxJIBVkYktngoMtXZ', '_version': 1, 'result': 'created', '_shards': {'total': 2, 'successful': 1, 'failed': 0}, '_seq_no': 0, '_primary_term': 1}))"
      ]
     },
     "execution_count": 13,
     "metadata": {},
     "output_type": "execute_result"
    }
   ],
   "source": [
    "store_text(lmao)"
   ]
  },
  {
   "cell_type": "code",
   "execution_count": null,
   "id": "1d776666-0919-4fdb-bd65-53a0208f0868",
   "metadata": {},
   "outputs": [],
   "source": []
  }
 ],
 "metadata": {
  "kernelspec": {
   "display_name": "Python 3 (ipykernel)",
   "language": "python",
   "name": "python3"
  },
  "language_info": {
   "codemirror_mode": {
    "name": "ipython",
    "version": 3
   },
   "file_extension": ".py",
   "mimetype": "text/x-python",
   "name": "python",
   "nbconvert_exporter": "python",
   "pygments_lexer": "ipython3",
   "version": "3.11.8"
  }
 },
 "nbformat": 4,
 "nbformat_minor": 5
}
