{
 "cells": [
  {
   "cell_type": "code",
   "execution_count": 1,
   "id": "c40b5fac-0ced-4d7a-967f-d10e457d9fae",
   "metadata": {},
   "outputs": [],
   "source": [
    "import sys\n",
    "import os"
   ]
  },
  {
   "cell_type": "code",
   "execution_count": 2,
   "id": "9b89db61-b57c-4684-89c3-53d262151553",
   "metadata": {},
   "outputs": [],
   "source": [
    "sys.path.append(os.path.abspath('../../app'))"
   ]
  },
  {
   "cell_type": "code",
   "execution_count": 3,
   "id": "baf5e7f7-e095-43fd-b707-8568556588da",
   "metadata": {
    "scrolled": true
   },
   "outputs": [
    {
     "name": "stdout",
     "output_type": "stream",
     "text": [
      "Requirement already satisfied: huggingface-hub in /usr/app/venv/lib/python3.11/site-packages (0.24.6)\n",
      "Requirement already satisfied: filelock in /usr/app/venv/lib/python3.11/site-packages (from huggingface-hub) (3.15.4)\n",
      "Requirement already satisfied: fsspec>=2023.5.0 in /usr/app/venv/lib/python3.11/site-packages (from huggingface-hub) (2024.6.1)\n",
      "Requirement already satisfied: packaging>=20.9 in /usr/app/venv/lib/python3.11/site-packages (from huggingface-hub) (24.1)\n",
      "Requirement already satisfied: pyyaml>=5.1 in /usr/app/venv/lib/python3.11/site-packages (from huggingface-hub) (6.0.2)\n",
      "Requirement already satisfied: requests in /usr/app/venv/lib/python3.11/site-packages (from huggingface-hub) (2.32.3)\n",
      "Requirement already satisfied: tqdm>=4.42.1 in /usr/app/venv/lib/python3.11/site-packages (from huggingface-hub) (4.66.5)\n",
      "Requirement already satisfied: typing-extensions>=3.7.4.3 in /usr/app/venv/lib/python3.11/site-packages (from huggingface-hub) (4.12.2)\n",
      "Requirement already satisfied: charset-normalizer<4,>=2 in /usr/app/venv/lib/python3.11/site-packages (from requests->huggingface-hub) (3.3.2)\n",
      "Requirement already satisfied: idna<4,>=2.5 in /usr/app/venv/lib/python3.11/site-packages (from requests->huggingface-hub) (3.7)\n",
      "Requirement already satisfied: urllib3<3,>=1.21.1 in /usr/app/venv/lib/python3.11/site-packages (from requests->huggingface-hub) (2.2.2)\n",
      "Requirement already satisfied: certifi>=2017.4.17 in /usr/app/venv/lib/python3.11/site-packages (from requests->huggingface-hub) (2024.7.4)\n",
      "Requirement already satisfied: matplotlib in /usr/app/venv/lib/python3.11/site-packages (3.9.2)\n",
      "Requirement already satisfied: contourpy>=1.0.1 in /usr/app/venv/lib/python3.11/site-packages (from matplotlib) (1.2.0)\n",
      "Requirement already satisfied: cycler>=0.10 in /usr/app/venv/lib/python3.11/site-packages (from matplotlib) (0.12.1)\n",
      "Requirement already satisfied: fonttools>=4.22.0 in /usr/app/venv/lib/python3.11/site-packages (from matplotlib) (4.48.1)\n",
      "Requirement already satisfied: kiwisolver>=1.3.1 in /usr/app/venv/lib/python3.11/site-packages (from matplotlib) (1.4.5)\n",
      "Requirement already satisfied: numpy>=1.23 in /usr/app/venv/lib/python3.11/site-packages (from matplotlib) (1.26.4)\n",
      "Requirement already satisfied: packaging>=20.0 in /usr/app/venv/lib/python3.11/site-packages (from matplotlib) (24.1)\n",
      "Requirement already satisfied: pillow>=8 in /usr/app/venv/lib/python3.11/site-packages (from matplotlib) (10.4.0)\n",
      "Requirement already satisfied: pyparsing>=2.3.1 in /usr/app/venv/lib/python3.11/site-packages (from matplotlib) (3.1.1)\n",
      "Requirement already satisfied: python-dateutil>=2.7 in /usr/app/venv/lib/python3.11/site-packages (from matplotlib) (2.8.2)\n",
      "Requirement already satisfied: six>=1.5 in /usr/app/venv/lib/python3.11/site-packages (from python-dateutil>=2.7->matplotlib) (1.16.0)\n",
      "Requirement already satisfied: datasets in /usr/app/venv/lib/python3.11/site-packages (3.0.2)\n",
      "Requirement already satisfied: filelock in /usr/app/venv/lib/python3.11/site-packages (from datasets) (3.15.4)\n",
      "Requirement already satisfied: numpy>=1.17 in /usr/app/venv/lib/python3.11/site-packages (from datasets) (1.26.4)\n",
      "Requirement already satisfied: pyarrow>=15.0.0 in /usr/app/venv/lib/python3.11/site-packages (from datasets) (17.0.0)\n",
      "Requirement already satisfied: dill<0.3.9,>=0.3.0 in /usr/app/venv/lib/python3.11/site-packages (from datasets) (0.3.8)\n",
      "Requirement already satisfied: pandas in /usr/app/venv/lib/python3.11/site-packages (from datasets) (2.2.3)\n",
      "Requirement already satisfied: requests>=2.32.2 in /usr/app/venv/lib/python3.11/site-packages (from datasets) (2.32.3)\n",
      "Requirement already satisfied: tqdm>=4.66.3 in /usr/app/venv/lib/python3.11/site-packages (from datasets) (4.66.5)\n",
      "Requirement already satisfied: xxhash in /usr/app/venv/lib/python3.11/site-packages (from datasets) (3.5.0)\n",
      "Requirement already satisfied: multiprocess<0.70.17 in /usr/app/venv/lib/python3.11/site-packages (from datasets) (0.70.16)\n",
      "Requirement already satisfied: fsspec<=2024.9.0,>=2023.1.0 in /usr/app/venv/lib/python3.11/site-packages (from fsspec[http]<=2024.9.0,>=2023.1.0->datasets) (2024.6.1)\n",
      "Requirement already satisfied: aiohttp in /usr/app/venv/lib/python3.11/site-packages (from datasets) (3.10.10)\n",
      "Requirement already satisfied: huggingface-hub>=0.23.0 in /usr/app/venv/lib/python3.11/site-packages (from datasets) (0.24.6)\n",
      "Requirement already satisfied: packaging in /usr/app/venv/lib/python3.11/site-packages (from datasets) (24.1)\n",
      "Requirement already satisfied: pyyaml>=5.1 in /usr/app/venv/lib/python3.11/site-packages (from datasets) (6.0.2)\n",
      "Requirement already satisfied: aiohappyeyeballs>=2.3.0 in /usr/app/venv/lib/python3.11/site-packages (from aiohttp->datasets) (2.4.3)\n",
      "Requirement already satisfied: aiosignal>=1.1.2 in /usr/app/venv/lib/python3.11/site-packages (from aiohttp->datasets) (1.3.1)\n",
      "Requirement already satisfied: attrs>=17.3.0 in /usr/app/venv/lib/python3.11/site-packages (from aiohttp->datasets) (24.2.0)\n",
      "Requirement already satisfied: frozenlist>=1.1.1 in /usr/app/venv/lib/python3.11/site-packages (from aiohttp->datasets) (1.5.0)\n",
      "Requirement already satisfied: multidict<7.0,>=4.5 in /usr/app/venv/lib/python3.11/site-packages (from aiohttp->datasets) (6.1.0)\n",
      "Requirement already satisfied: yarl<2.0,>=1.12.0 in /usr/app/venv/lib/python3.11/site-packages (from aiohttp->datasets) (1.16.0)\n",
      "Requirement already satisfied: typing-extensions>=3.7.4.3 in /usr/app/venv/lib/python3.11/site-packages (from huggingface-hub>=0.23.0->datasets) (4.12.2)\n",
      "Requirement already satisfied: charset-normalizer<4,>=2 in /usr/app/venv/lib/python3.11/site-packages (from requests>=2.32.2->datasets) (3.3.2)\n",
      "Requirement already satisfied: idna<4,>=2.5 in /usr/app/venv/lib/python3.11/site-packages (from requests>=2.32.2->datasets) (3.7)\n",
      "Requirement already satisfied: urllib3<3,>=1.21.1 in /usr/app/venv/lib/python3.11/site-packages (from requests>=2.32.2->datasets) (2.2.2)\n",
      "Requirement already satisfied: certifi>=2017.4.17 in /usr/app/venv/lib/python3.11/site-packages (from requests>=2.32.2->datasets) (2024.7.4)\n",
      "Requirement already satisfied: python-dateutil>=2.8.2 in /usr/app/venv/lib/python3.11/site-packages (from pandas->datasets) (2.8.2)\n",
      "Requirement already satisfied: pytz>=2020.1 in /usr/app/venv/lib/python3.11/site-packages (from pandas->datasets) (2024.2)\n",
      "Requirement already satisfied: tzdata>=2022.7 in /usr/app/venv/lib/python3.11/site-packages (from pandas->datasets) (2024.2)\n",
      "Requirement already satisfied: six>=1.5 in /usr/app/venv/lib/python3.11/site-packages (from python-dateutil>=2.8.2->pandas->datasets) (1.16.0)\n",
      "Requirement already satisfied: propcache>=0.2.0 in /usr/app/venv/lib/python3.11/site-packages (from yarl<2.0,>=1.12.0->aiohttp->datasets) (0.2.0)\n"
     ]
    }
   ],
   "source": [
    "!pip install huggingface-hub\n",
    "!pip install matplotlib\n",
    "!pip install datasets"
   ]
  },
  {
   "cell_type": "code",
   "execution_count": 4,
   "id": "5cef86a3-ee82-441d-b139-c7aaa43ef2f4",
   "metadata": {},
   "outputs": [
    {
     "name": "stderr",
     "output_type": "stream",
     "text": [
      "/usr/app/venv/lib/python3.11/site-packages/tqdm/auto.py:21: TqdmWarning: IProgress not found. Please update jupyter and ipywidgets. See https://ipywidgets.readthedocs.io/en/stable/user_install.html\n",
      "  from .autonotebook import tqdm as notebook_tqdm\n"
     ]
    }
   ],
   "source": [
    "from huggingface_hub import hf_hub_download\n",
    "from core.feluda import Feluda\n",
    "from core.models.media_factory import VideoFactory\n",
    "import cv2\n",
    "import tarfile\n",
    "import matplotlib.pyplot as plt\n",
    "from matplotlib.offsetbox import OffsetImage, AnnotationBbox"
   ]
  },
  {
   "cell_type": "markdown",
   "id": "880b8a43-049d-413b-9f20-1cecd78fc5e9",
   "metadata": {},
   "source": [
    "\n",
    "### Dataset Structure Breakdown\n",
    "\n",
    "- **UCF101_subset/**: The root directory containing the dataset.\n",
    "  - **train/**: Contains training samples.\n",
    "    - Each subdirectory under `train/` corresponds to a specific action class:\n",
    "      - `BenchPress`\n",
    "      - `BasketballDunk`\n",
    "      - `BalanceBeam`\n",
    "      - `ApplyLipstick`\n",
    "      - `BabyCrawling`\n",
    "      - `ApplyEyeMakeup`\n",
    "      - `Archery`\n",
    "      - `BandMarching`\n",
    "      - `BaseballPitch`\n",
    "      - `Basketball`\n",
    "  - **test/**: Same as train.\n",
    "  - **val/**: Same as train.\n",
    "\n",
    "We'll take train subset as our example here."
   ]
  },
  {
   "cell_type": "code",
   "execution_count": 5,
   "id": "425f5c5c-60f4-46a4-9b4f-9d68e85da25d",
   "metadata": {},
   "outputs": [],
   "source": [
    "# Downloading and extracting \n",
    "\n",
    "dataset_name = \"UCF101_subset/train\"\n",
    "hf_dataset_identifier = \"sayakpaul/ucf101-subset\"\n",
    "filename = \"UCF101_subset.tar.gz\"\n",
    "file_path = hf_hub_download(repo_id=hf_dataset_identifier, filename=filename, repo_type=\"dataset\")\n",
    "\n",
    "\n",
    "with tarfile.open(file_path) as t:\n",
    "     t.extractall(\".\")\n"
   ]
  },
  {
   "cell_type": "markdown",
   "id": "35a99415-ca33-4395-8bf0-84b109bcd382",
   "metadata": {},
   "source": [
    "### Initializing Feluda class with config file\n",
    "\n",
    "We'll use two operators for this example. One for extracting embeddings and other for dimension reduction."
   ]
  },
  {
   "cell_type": "code",
   "execution_count": 6,
   "id": "5be5282b-e704-40eb-ab90-0d8f998348bd",
   "metadata": {},
   "outputs": [
    {
     "name": "stdout",
     "output_type": "stream",
     "text": [
      "Installing packages for classify_video_zero_shot\n"
     ]
    },
    {
     "name": "stderr",
     "output_type": "stream",
     "text": [
      "The cache for model files in Transformers v4.22.0 has been updated. Migrating your old cache. This is a one-time only operation. You can interrupt this and resume the migration later on by calling `transformers.utils.move_cache()`.\n",
      "0it [00:00, ?it/s]\n",
      "/usr/app/venv/lib/python3.11/site-packages/transformers/tokenization_utils_base.py:1601: FutureWarning: `clean_up_tokenization_spaces` was not set. It will be set to `True` by default. This behavior will be depracted in transformers v4.45, and will be then set to `False` by default. For more details check this issue: https://github.com/huggingface/transformers/issues/31884\n",
      "  warnings.warn(\n"
     ]
    }
   ],
   "source": [
    "feluda = Feluda(\"classify-video.yml\")\n",
    "feluda.setup()\n",
    "\n",
    "# Extracting operator name from config and getting operators from Feluda\n",
    "classify_video_operator = feluda.operators.get()[feluda.config.operators.parameters[0].type] "
   ]
  },
  {
   "cell_type": "code",
   "execution_count": 7,
   "id": "8e72cccd-2605-47cc-b028-9fcf61780b70",
   "metadata": {},
   "outputs": [],
   "source": [
    "video_path = VideoFactory.make_from_file_on_disk(\n",
    "        os.path.join(dataset_name, 'Archery', 'v_Archery_g01_c04.avi')\n",
    "    )\n",
    "\n",
    "# notebooks/UCF101_subset/train/Archery/v_Archery_g01_c04.avi"
   ]
  },
  {
   "cell_type": "code",
   "execution_count": 9,
   "id": "89ffac8a-599e-4777-921d-5e0f89f69e84",
   "metadata": {},
   "outputs": [],
   "source": [
    "labels = os.listdir(f'{dataset_name}')"
   ]
  },
  {
   "cell_type": "code",
   "execution_count": 11,
   "id": "55d937bf-2dbc-4791-877d-31953273788b",
   "metadata": {},
   "outputs": [],
   "source": [
    "temp = classify_video_operator.run(video_path,labels)"
   ]
  },
  {
   "cell_type": "code",
   "execution_count": 12,
   "id": "ac0fc5a5-6879-475d-878c-3795cc760b97",
   "metadata": {},
   "outputs": [
    {
     "data": {
      "text/plain": [
       "{'prediction': 'Archery',\n",
       " 'probs': [2.565195427450817e-05,\n",
       "  0.00012317295477259904,\n",
       "  0.00017170717183034867,\n",
       "  1.4688222336189938e-06,\n",
       "  6.08291884418577e-07,\n",
       "  2.1681134967366233e-06,\n",
       "  0.9996010661125183,\n",
       "  3.12440242851153e-05,\n",
       "  1.676418469287455e-05,\n",
       "  2.6119405447389e-05]}"
      ]
     },
     "execution_count": 12,
     "metadata": {},
     "output_type": "execute_result"
    }
   ],
   "source": [
    "temp"
   ]
  },
  {
   "cell_type": "code",
   "execution_count": 13,
   "id": "8dcef1d2-2c3f-4a91-a35f-6401ccc9ba9c",
   "metadata": {},
   "outputs": [
    {
     "data": {
      "text/plain": [
       "['BenchPress',\n",
       " 'BasketballDunk',\n",
       " 'BalanceBeam',\n",
       " 'ApplyLipstick',\n",
       " 'BabyCrawling',\n",
       " 'ApplyEyeMakeup',\n",
       " 'Archery',\n",
       " 'BandMarching',\n",
       " 'BaseballPitch',\n",
       " 'Basketball']"
      ]
     },
     "execution_count": 13,
     "metadata": {},
     "output_type": "execute_result"
    }
   ],
   "source": [
    "labels"
   ]
  },
  {
   "cell_type": "code",
   "execution_count": null,
   "id": "29a50a4a-a1f9-415f-9bfe-780c9427cab5",
   "metadata": {},
   "outputs": [],
   "source": []
  }
 ],
 "metadata": {
  "kernelspec": {
   "display_name": "Python 3 (ipykernel)",
   "language": "python",
   "name": "python3"
  },
  "language_info": {
   "codemirror_mode": {
    "name": "ipython",
    "version": 3
   },
   "file_extension": ".py",
   "mimetype": "text/x-python",
   "name": "python",
   "nbconvert_exporter": "python",
   "pygments_lexer": "ipython3",
   "version": "3.11.8"
  }
 },
 "nbformat": 4,
 "nbformat_minor": 5
}
